{
  "nbformat": 4,
  "nbformat_minor": 0,
  "metadata": {
    "colab": {
      "provenance": []
    },
    "kernelspec": {
      "name": "python3",
      "display_name": "Python 3"
    },
    "language_info": {
      "name": "python"
    }
  },
  "cells": [
    {
      "cell_type": "code",
      "execution_count": 4,
      "metadata": {
        "colab": {
          "base_uri": "https://localhost:8080/"
        },
        "id": "TNjN7Mo3iryl",
        "outputId": "4f85ecbf-add1-4bd8-ac3e-c07260c9a5c3"
      },
      "outputs": [
        {
          "output_type": "stream",
          "name": "stdout",
          "text": [
            "[1, 2, 3]\n",
            "(1, 2, 3)\n"
          ]
        }
      ],
      "source": [
        "#list is mutable,we can modify the list.\n",
        "#we use square brackets to create a list.\n",
        "lst=[1,2,3]\n",
        "print(lst)\n",
        "#tuple is a unmutable ,we can't modify the tuple\n",
        "#we use paranthesis() to create a tuple.\n",
        "tup=(1,2,3)\n",
        "print(tup)\n"
      ]
    },
    {
      "cell_type": "code",
      "source": [
        "#input() function is used to take input from the user.\n",
        "#it will return string data type\n",
        "#convert it into integer by using int"
      ],
      "metadata": {
        "id": "4Sy_KdLMleV_"
      },
      "execution_count": 5,
      "outputs": []
    },
    {
      "cell_type": "code",
      "source": [
        "#dict has key value pairs inwhich they are mutable we can modify the values but we cant modify the key.\n",
        "dict={'name':'kirti','class':12,'age':21}\n",
        "print(dict)"
      ],
      "metadata": {
        "colab": {
          "base_uri": "https://localhost:8080/"
        },
        "id": "D1F0d75AmCXG",
        "outputId": "a97bd364-67fb-4d55-add9-9fa602209f6c"
      },
      "execution_count": 7,
      "outputs": [
        {
          "output_type": "stream",
          "name": "stdout",
          "text": [
            "{'name': 'kirti', 'class': 12, 'age': 21}\n"
          ]
        }
      ]
    },
    {
      "cell_type": "code",
      "source": [
        "#for loop is used to print the values until we can't stop.\n",
        "for i in range(1,6):\n",
        "   print(i)"
      ],
      "metadata": {
        "colab": {
          "base_uri": "https://localhost:8080/"
        },
        "id": "LBSkjs06mm_1",
        "outputId": "f6bf7cf7-440f-47ed-e98d-5fb87226057a"
      },
      "execution_count": 3,
      "outputs": [
        {
          "output_type": "stream",
          "name": "stdout",
          "text": [
            "1\n",
            "2\n",
            "3\n",
            "4\n",
            "5\n"
          ]
        }
      ]
    },
    {
      "cell_type": "code",
      "source": [
        "\n"
      ],
      "metadata": {
        "id": "QF2gyOZeoG-M"
      },
      "execution_count": null,
      "outputs": []
    },
    {
      "cell_type": "code",
      "source": [
        "#python module contains the class and the function .\n",
        "# Python, a module is  file containing Python functions and classes\n",
        "# When we create '.py' file, its name becomes the module name.\n",
        "#it can define functions, classes, and variables"
      ],
      "metadata": {
        "id": "Lrf0iRCbnOLH"
      },
      "execution_count": null,
      "outputs": []
    },
    {
      "cell_type": "code",
      "source": [
        "import math\n",
        "print(math.pi)\n",
        "print(math.sqrt(25))"
      ],
      "metadata": {
        "colab": {
          "base_uri": "https://localhost:8080/"
        },
        "id": "xZmqMjuynN_J",
        "outputId": "63f6df54-84ea-421f-f5cb-c58a94e1edcb"
      },
      "execution_count": 8,
      "outputs": [
        {
          "output_type": "stream",
          "name": "stdout",
          "text": [
            "3.141592653589793\n",
            "5.0\n"
          ]
        }
      ]
    },
    {
      "cell_type": "code",
      "source": [],
      "metadata": {
        "id": "Yx73BeQKvT2u"
      },
      "execution_count": null,
      "outputs": []
    },
    {
      "cell_type": "code",
      "metadata": {
        "colab": {
          "base_uri": "https://localhost:8080/"
        },
        "id": "73bc70e9",
        "outputId": "05b0b1d4-2b44-45e6-a90e-a93c9e2aa6f8"
      },
      "source": [
        "#exception handling is used to handle the error.\n",
        "#try block catch the exceptions.\n",
        "#in except block has the exception ,it will check the exception\n",
        "#finally block is run if the exception happened or not\n",
        "try:\n",
        "  result = 10 / 0\n",
        "  print(result)\n",
        "except ZeroDivisionError:\n",
        "  print(\"Error: Can't divide by zero!\")\n",
        "finally:\n",
        "  print(\"it is the finally block.\")"
      ],
      "execution_count": 9,
      "outputs": [
        {
          "output_type": "stream",
          "name": "stdout",
          "text": [
            "Error: Cannot divide by zero!\n",
            "This is the finally block.\n"
          ]
        }
      ]
    },
    {
      "cell_type": "code",
      "source": [],
      "metadata": {
        "id": "lvOV0jSeraMa"
      },
      "execution_count": null,
      "outputs": []
    },
    {
      "cell_type": "code",
      "source": [],
      "metadata": {
        "id": "CL46GJUFqsDV"
      },
      "execution_count": null,
      "outputs": []
    },
    {
      "cell_type": "code",
      "source": [
        "import math\n",
        "def calculate_area(r):\n",
        "  return math.pi * (r ** 2)\n",
        "r = 8\n",
        "area = calculate_area(r)\n",
        "print(f\"The area of a circle and radius {r} is: {area}\")"
      ],
      "metadata": {
        "colab": {
          "base_uri": "https://localhost:8080/"
        },
        "id": "p1alCdGerrKE",
        "outputId": "d6b1e4e6-3252-4337-b771-366494ea3fdc"
      },
      "execution_count": 16,
      "outputs": [
        {
          "output_type": "stream",
          "name": "stdout",
          "text": [
            "The area of a circle and radius 8 is: 201.06192982974676\n"
          ]
        }
      ]
    },
    {
      "cell_type": "code",
      "source": [],
      "metadata": {
        "id": "sdDa7TXHsjKF"
      },
      "execution_count": null,
      "outputs": []
    },
    {
      "cell_type": "code",
      "metadata": {
        "colab": {
          "base_uri": "https://localhost:8080/"
        },
        "id": "c3edb0fd",
        "outputId": "646e0925-a9d0-4495-908a-3ee688069e85"
      },
      "source": [
        "name = input(\"Enter your name:\")\n",
        "age = input(\"Enter your age: \")\n",
        "print(f\"Hello {name}, you are {age} years old!\")"
      ],
      "execution_count": 17,
      "outputs": [
        {
          "output_type": "stream",
          "name": "stdout",
          "text": [
            "Enter your name:kirti\n",
            "Enter your age: 21\n",
            "Hello kirti, you are 21 years old!\n"
          ]
        }
      ]
    },
    {
      "cell_type": "code",
      "metadata": {
        "colab": {
          "base_uri": "https://localhost:8080/"
        },
        "id": "23e0d3b2",
        "outputId": "6b491189-2671-43a7-e4e7-f5c8e739f6a1"
      },
      "source": [
        "fruits = [\"apple\", \"banana\", \"mango\", \"date\", \"sugarcane\"]\n",
        "for index  , fruits in enumerate(fruits):\n",
        "  place=i+1\n",
        "  print(f\"Place {place}: {fruits}\")"
      ],
      "execution_count": 27,
      "outputs": [
        {
          "output_type": "stream",
          "name": "stdout",
          "text": [
            "Place 6: apple\n",
            "Place 6: banana\n",
            "Place 6: mango\n",
            "Place 6: date\n",
            "Place 6: sugarcane\n"
          ]
        }
      ]
    },
    {
      "cell_type": "code",
      "source": [],
      "metadata": {
        "id": "Rj-8_qfttav1"
      },
      "execution_count": null,
      "outputs": []
    },
    {
      "cell_type": "code",
      "metadata": {
        "colab": {
          "base_uri": "https://localhost:8080/"
        },
        "id": "11a16d09",
        "outputId": "0211ca22-88a0-4720-d6fb-ba95463bfe42"
      },
      "source": [
        "def grade_calculator(score):\n",
        "  if score >= 90:\n",
        "    return 'A'\n",
        "  elif score >= 80:\n",
        "    return 'B'\n",
        "  elif score >= 70:\n",
        "    return 'C'\n",
        "  elif score >= 60:\n",
        "    return 'D'\n",
        "  else:\n",
        "    return 'F'\n",
        "print(f\"Score 95: Grade {grade_calculator(95)}\")\n",
        "print(f\"Score 82: Grade {grade_calculator(82)}\")\n",
        "print(f\"Score 70: Grade {grade_calculator(70)}\")\n",
        "print(f\"Score 55: Grade {grade_calculator(55)}\")"
      ],
      "execution_count": 25,
      "outputs": [
        {
          "output_type": "stream",
          "name": "stdout",
          "text": [
            "Score 95: Grade A\n",
            "Score 82: Grade B\n",
            "Score 70: Grade C\n",
            "Score 55: Grade F\n"
          ]
        }
      ]
    },
    {
      "cell_type": "code",
      "metadata": {
        "colab": {
          "base_uri": "https://localhost:8080/"
        },
        "id": "7b98460f",
        "outputId": "200a00a2-4c5c-4479-a9e0-bf08e0de0aca"
      },
      "source": [
        "def is_prime(num):\n",
        "  if num <= 1:\n",
        "    return False\n",
        "  for i in range(2, int(num**0.5) + 1):\n",
        "    if num % i == 0:\n",
        "      return False\n",
        "  return True\n",
        "\n",
        "prime_numbers =[num for num in range(1, 51) if is_prime(num)]\n",
        "print(\"Prime numbers between 1 and 50:\")\n",
        "print(prime_numbers)"
      ],
      "execution_count": 26,
      "outputs": [
        {
          "output_type": "stream",
          "name": "stdout",
          "text": [
            "Prime numbers between 1 and 50:\n",
            "[2, 3, 5, 7, 11, 13, 17, 19, 23, 29, 31, 37, 41, 43, 47]\n"
          ]
        }
      ]
    },
    {
      "cell_type": "code",
      "metadata": {
        "colab": {
          "base_uri": "https://localhost:8080/"
        },
        "id": "329d22b3",
        "outputId": "3770475f-4b30-4b5c-db07-68f8354d419f"
      },
      "source": [
        "class BankAccount:\n",
        "    def __init__(self, account_holder_name, starting_balance=0):\n",
        "        self.account_holder_name = account_holder_name\n",
        "        self.balance = starting_balance\n",
        "        print(f\"Acc created for {self.account_holder_name} with starting balance ${self.balance:.2f}\")\n",
        "\n",
        "    def deposit(self, amount):\n",
        "        if amount > 0:\n",
        "            self.balance += amount\n",
        "            print(f\"Deposited ${amount:.2f}. New balance: ${self.balance:.2f}\")\n",
        "        else:\n",
        "            print(\"Deposit amount must be positive.\")\n",
        "\n",
        "    def withdraw(self, amount):\n",
        "        if amount > 0:\n",
        "            if self.balance >= amount:\n",
        "                self.balance -= amount\n",
        "                print(f\"Withdrew ${amount:.2f}. New balance: ${self.balance:.2f}\")\n",
        "            else:\n",
        "                print(\"Insufficient balance.\")\n",
        "        else:\n",
        "            print(\"Withdrawal amount must be positive.\")\n",
        "\n",
        "    def display_balance(self):\n",
        "        print(f\"Current balance for {self.account_holder_name}: ${self.balance:.2f}\")\n",
        "\n",
        "# Create an account, perform transactions, and show the final balance\n",
        "my_account = BankAccount(\"kirti malik\",2000)\n",
        "\n",
        "my_account.deposit(5000)\n",
        "my_account.withdraw(2000)\n",
        "my_account.withdraw(15000)\n",
        "my_account.display_balance()"
      ],
      "execution_count": 30,
      "outputs": [
        {
          "output_type": "stream",
          "name": "stdout",
          "text": [
            "Acc created for kirti malik with starting balance $2000.00\n",
            "Deposited $5000.00. New balance: $7000.00\n",
            "Withdrew $2000.00. New balance: $5000.00\n",
            "Insufficient balance.\n",
            "Current balance for kirti malik: $5000.00\n"
          ]
        }
      ]
    },
    {
      "cell_type": "code",
      "source": [
        "#list comprehenssion\n"
      ],
      "metadata": {
        "id": "SJjK-JT5vbFf"
      },
      "execution_count": null,
      "outputs": []
    },
    {
      "cell_type": "code",
      "metadata": {
        "colab": {
          "base_uri": "https://localhost:8080/"
        },
        "id": "d0809f72",
        "outputId": "746101da-4034-4e48-9add-3da6b98da49d"
      },
      "source": [
        "result = [x * 2 for x in range(10) if x % 2 == 0]\n",
        "print(result)"
      ],
      "execution_count": 37,
      "outputs": [
        {
          "output_type": "stream",
          "name": "stdout",
          "text": [
            "[0, 4, 8, 12, 16]\n"
          ]
        }
      ]
    }
  ]
}